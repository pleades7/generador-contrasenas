{
  "nbformat": 4,
  "nbformat_minor": 0,
  "metadata": {
    "colab": {
      "provenance": [],
      "authorship_tag": "ABX9TyMJIXwPoQ3N9LFRurFHVqoD",
      "include_colab_link": true
    },
    "kernelspec": {
      "name": "python3",
      "display_name": "Python 3"
    },
    "language_info": {
      "name": "python"
    }
  },
  "cells": [
    {
      "cell_type": "markdown",
      "metadata": {
        "id": "view-in-github",
        "colab_type": "text"
      },
      "source": [
        "<a href=\"https://colab.research.google.com/github/pleades7/generador-contrasenas/blob/main/generador_de_contrasenas.ipynb\" target=\"_parent\"><img src=\"https://colab.research.google.com/assets/colab-badge.svg\" alt=\"Open In Colab\"/></a>"
      ]
    },
    {
      "cell_type": "code",
      "execution_count": 3,
      "metadata": {
        "id": "MLd4aH9Ov6te"
      },
      "outputs": [],
      "source": [
        "# importación de librerias (simplifica el proceso de código)\n",
        "import re\n",
        "import secrets\n",
        "import string"
      ]
    },
    {
      "cell_type": "code",
      "source": [
        "def generar_contraseña(longitud, nums, caracteres_especiales, mayusculas, minusculas):\n",
        "  # definición de variables para caracteres\n",
        "  letras = string.ascii_letters\n",
        "  digitos = string.digits\n",
        "  simbolos = string.punctuation\n",
        "\n",
        "  # combinación de variables de caracteres\n",
        "  todos_los_caracteres = letras + digitos + simbolos\n",
        "\n",
        "  while True:\n",
        "    contraseña = ''\n",
        "    # generación de la contraseña\n",
        "    for _ in range(longitud):\n",
        "      contraseña += secrets.choice(todos_los_caracteres)\n",
        "\n",
        "    restricciones = [\n",
        "      (nums, r'\\d'),\n",
        "      (minusculas, r'[a-z]'),\n",
        "      (mayusculas, r'[A-Z]'),\n",
        "      (caracteres_especiales, fr'[{simbolos}]')\n",
        "    ]\n",
        "\n",
        "  # verifica restricciones\n",
        "    count = 0\n",
        "    for restriccion, patron in restricciones:\n",
        "      if restriccion <= len(re.findall(patron, contraseña)):\n",
        "        count += 1\n",
        "\n",
        "    if count == 4:\n",
        "      break\n",
        "\n",
        "  return contraseña\n",
        "\n",
        "nueva_contraseña = generar_contraseña(8, 2, 2, 2, 2)\n",
        "print(nueva_contraseña)"
      ],
      "metadata": {
        "id": "CigfGs18wE4i",
        "colab": {
          "base_uri": "https://localhost:8080/"
        },
        "outputId": "44f95815-a4cd-48ab-bee7-abc6907c1989"
      },
      "execution_count": 4,
      "outputs": [
        {
          "output_type": "stream",
          "name": "stdout",
          "text": [
            "Dr6s`8Z&\n"
          ]
        }
      ]
    },
    {
      "cell_type": "code",
      "source": [
        "def main():\n",
        "  print('Bienvenidos al generador automático de contraseñas en Google Colab y Python\\n')\n",
        "  longitud = input('Digite la longitud de la contraseña: ')\n",
        "  numeros = input('Digite la cantidad de números que desea en su contraseña: ')\n",
        "  caracteres_especiales = input('Digite la cantidad de caracteres especiales que desea en su contraseña: ')\n",
        "  mayusculas = input('Digite la cantidad de mayusuculas que desea en su contraseña: ')\n",
        "  minusculas = input('Digite la cantidad de minusculas que desea en su contraseña: ')\n",
        "\n",
        "  if longitud.isdigit() and numeros.isdigit() and caracteres_especiales.isdigit() and mayusculas.isdigit() and minusculas.isdigit():\n",
        "    longi = int(longitud)\n",
        "    nums = int(numeros)\n",
        "    chars = int(caracteres_especiales)\n",
        "    mayus = int(mayusculas)\n",
        "    minus = int(minusculas)\n",
        "    password = generar_contraseña(longi, nums, chars, mayus, minus)\n",
        "    print(f'La nueva contraseña generada es: {password}')\n",
        "  else:\n",
        "    print('Favor de escribir números enteros.')\n",
        "    main()"
      ],
      "metadata": {
        "id": "EaUmCFi92M-W"
      },
      "execution_count": 5,
      "outputs": []
    },
    {
      "cell_type": "code",
      "source": [
        "main()"
      ],
      "metadata": {
        "colab": {
          "base_uri": "https://localhost:8080/"
        },
        "id": "i_3PWgy_yoQB",
        "outputId": "2c13b95f-7f4f-4de9-c749-7c527c0268ad"
      },
      "execution_count": 6,
      "outputs": [
        {
          "output_type": "stream",
          "name": "stdout",
          "text": [
            "Bienvenidos al generador automático de contraseñas en Google Colab y Python\n",
            "\n",
            "Digite la longitud de la contraseña: 16\n",
            "Digite la cantidad de números que desea en su contraseña: 4\n",
            "Digite la cantidad de caracteres especiales que desea en su contraseña: 4\n",
            "Digite la cantidad de mayusuculas que desea en su contraseña: 4\n",
            "Digite la cantidad de minusculas que desea en su contraseña: 4\n",
            "La nueva contraseña generada es: 807[fB!OC7}&Tfuq\n"
          ]
        }
      ]
    }
  ]
}